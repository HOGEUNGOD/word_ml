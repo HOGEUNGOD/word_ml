{
 "cells": [
  {
   "cell_type": "code",
   "execution_count": 1,
   "metadata": {
    "collapsed": true,
    "pycharm": {
     "name": "#%%\n"
    }
   },
   "outputs": [
    {
     "name": "stdout",
     "output_type": "stream",
     "text": [
      "around\n",
      "b\n",
      "fracture\n",
      "ground\n",
      "mechanics\n",
      "science\n",
      "smile\n",
      "strain\n",
      "stress\n",
      "t\n"
     ]
    }
   ],
   "source": [
    "import glob\n",
    "import sys\n",
    "import os\n",
    "import numpy as np\n",
    "import tqdm\n",
    "from sklearn.model_selection import train_test_split\n",
    "from tensorflow import keras\n",
    "from functools import partial\n",
    "import pandas as pd\n",
    "from sklearn.preprocessing import MinMaxScaler\n",
    "from scipy.signal import savgol_filter\n",
    "import matplotlib.pyplot as plt\n",
    "from tensorflow.keras.utils import to_categorical\n",
    "from sklearn.preprocessing import LabelEncoder\n",
    "\n",
    "def data_load():\n",
    "    files = glob.glob('../data/*')\n",
    "    if not files:\n",
    "        print(\"Chck Phath\")\n",
    "        sys.exit()\n",
    "    else:\n",
    "        files.remove(r'../data\\raw_data')\n",
    "        files.remove(r'../data\\raw_data_')\n",
    "\n",
    "    _feature=[]\n",
    "    label=[]\n",
    "    for address in files:\n",
    "        label_ = os.path.basename(address)\n",
    "        for num in glob.glob(address+'/*'):\n",
    "            _feature.append(np.load(num))\n",
    "            label.append([label_])\n",
    "        print(label_)\n",
    "    target = np.array(label).flatten()\n",
    "    return _feature, target.reshape((-1,))\n",
    "\n",
    "features, label = data_load()\n",
    "encoder = LabelEncoder()\n",
    "target = encoder.fit_transform(label)\n",
    "\n",
    "\n",
    "X_train,  X_valid, y_train, y_valid = train_test_split(np.array(features), target, test_size=0.2, random_state=0)\n",
    "X_test,  X_valid, y_test, y_valid = train_test_split(np.array(features), target, test_size=0.5, random_state=0)\n",
    "X_train = X_train / 255.0\n",
    "X_valid = X_valid / 255.0\n",
    "X_test = X_test / 255.0\n",
    "\n",
    "y_test_raw = y_test.copy()\n",
    "y_test = to_categorical(y_test)\n",
    "y_train = to_categorical(y_train)\n",
    "y_valid = to_categorical(y_valid)\n",
    "number_of_classes = y_valid.shape[1]"
   ]
  },
  {
   "cell_type": "code",
   "execution_count": 10,
   "outputs": [
    {
     "ename": "IndentationError",
     "evalue": "unindent does not match any outer indentation level (<ipython-input-10-2f49ade99fce>, line 21)",
     "output_type": "error",
     "traceback": [
      "\u001B[1;36m  File \u001B[1;32m\"<ipython-input-10-2f49ade99fce>\"\u001B[1;36m, line \u001B[1;32m21\u001B[0m\n\u001B[1;33m    def get_config(self):\u001B[0m\n\u001B[1;37m                         ^\u001B[0m\n\u001B[1;31mIndentationError\u001B[0m\u001B[1;31m:\u001B[0m unindent does not match any outer indentation level\n"
     ]
    }
   ],
   "source": [
    "DefaultConv2D = partial(keras.layers.Conv2D, kernel_size=3, strides=1,\n",
    "                        padding=\"SAME\", use_bias=False)\n",
    "\n",
    "class ResidualUnit(keras.layers.Layer):\n",
    "    def __init__(self, filters, strides=1, activation=\"relu\", **kwargs):\n",
    "        super().__init__(**kwargs)\n",
    "        self.activation = keras.activations.get(activation)\n",
    "        self.main_layers = [\n",
    "            DefaultConv2D(filters, strides=strides),\n",
    "            keras.layers.BatchNormalization(),\n",
    "            self.activation,\n",
    "            DefaultConv2D(filters),\n",
    "            keras.layers.BatchNormalization()]\n",
    "        self.skip_layers = []\n",
    "        if strides > 1:\n",
    "            self.skip_layers = [\n",
    "                DefaultConv2D(filters, kernel_size=1, strides=strides),\n",
    "                keras.layers.BatchNormalization()]\n",
    "     def get_config(self):\n",
    "        config = super().get_config().copy()\n",
    "        config.update({\n",
    "            'activation' : self.activation,\n",
    "            'main_layers' : self.main_layers,\n",
    "            'skip_layers' : self.skip_layers,\n",
    "        })\n",
    "        return config\n",
    "\n",
    "    def call(self, inputs):\n",
    "        Z = inputs\n",
    "        for layer in self.main_layers:\n",
    "            Z = layer(Z)\n",
    "        skip_Z = inputs\n",
    "        for layer in self.skip_layers:\n",
    "            skip_Z = layer(skip_Z)\n",
    "        return self.activation(Z + skip_Z)"
   ],
   "metadata": {
    "collapsed": false,
    "pycharm": {
     "name": "#%%\n"
    }
   }
  },
  {
   "cell_type": "code",
   "execution_count": null,
   "outputs": [],
   "source": [
    "model = keras.models.Sequential()\n",
    "\n",
    "model.add(DefaultConv2D(64, kernel_size=7, strides=2,\n",
    "                        input_shape=[210, 210, 10]))\n",
    "model.add(keras.layers.BatchNormalization())\n",
    "model.add(keras.layers.Activation(\"relu\"))\n",
    "model.add(keras.layers.MaxPool2D(pool_size=3, strides=2, padding=\"SAME\"))\n",
    "prev_filters = 64\n",
    "for filters in [64] * 3 + [128] * 4 + [256] * 6 + [512] * 3:\n",
    "    strides = 1 if filters == prev_filters else 2\n",
    "    model.add(ResidualUnit(filters, strides=strides))\n",
    "    prev_filters = filters\n",
    "model.add(keras.layers.GlobalAvgPool2D())\n",
    "model.add(keras.layers.Flatten())\n",
    "model.add(keras.layers.Dense(10, activation=\"softmax\"))\n",
    "\n",
    "model.compile(loss=\"categorical_crossentropy\", optimizer='adam', metrics=[\"accuracy\", keras.metrics.TopKCategoricalAccuracy()])\n",
    "history = model.fit(X_train, y_train, epochs=300, validation_data=(X_valid, y_valid))\n",
    "score = model.evaluate(X_valid, y_valid)\n",
    "\n",
    "training_loss = history.history[\"loss\"]\n",
    "test_loss = history.history[\"val_loss\"]\n",
    "epoch_count = range(1, len(training_loss)+1)\n",
    "\n",
    "training_acc = history.history[\"accuracy\"]\n",
    "test_acc = history.history[\"val_accuracy\"]\n",
    "\n",
    "plt.plot(epoch_count, training_loss, \"r-\")\n",
    "plt.plot(epoch_count, test_loss, \"b-\")\n",
    "plt.legend([\"training_loss\", \"test_loss\"])\n",
    "plt.xlabel(\"Epoch\")\n",
    "plt.ylabel(\"Loss\")\n",
    "plt.savefig('./figure/loss.png',dpi=300,bbox_inches='tight')"
   ],
   "metadata": {
    "collapsed": false,
    "pycharm": {
     "name": "#%%\n"
    }
   }
  },
  {
   "cell_type": "code",
   "execution_count": 3,
   "outputs": [
    {
     "data": {
      "text/plain": "<Figure size 432x288 with 1 Axes>",
      "image/png": "[encoded data removed]"
     },
     "metadata": {
      "needs_background": "light"
     },
     "output_type": "display_data"
    }
   ],
   "source": [
    "plt.plot(epoch_count, training_acc, \"r-\")\n",
    "plt.plot(epoch_count, test_acc, \"b-\")\n",
    "plt.legend([\"training_acc\", \"test_acc\"])\n",
    "plt.xlabel(\"Epoch\")\n",
    "plt.ylabel(\"accuracy\")\n",
    "plt.savefig('./figure/acc.png',dpi=300,bbox_inches='tight')"
   ],
   "metadata": {
    "collapsed": false,
    "pycharm": {
     "name": "#%%\n"
    }
   }
  },
  {
   "cell_type": "code",
   "execution_count": 4,
   "outputs": [
    {
     "data": {
      "text/plain": "<Figure size 432x288 with 1 Axes>",
      "image/png": "[encoded data removed]"
     },
     "metadata": {
      "needs_background": "light"
     },
     "output_type": "display_data"
    }
   ],
   "source": [
    "from sklearn.metrics import confusion_matrix\n",
    "import pandas as pd\n",
    "import matplotlib.pyplot as plt\n",
    "import seaborn as sns\n",
    "\n",
    "y_prediction = model.predict(X_test)\n",
    "\n",
    "matrix = confusion_matrix(encoder.inverse_transform(y_test_raw), encoder.inverse_transform(np.argmax(y_prediction, axis=1)))\n",
    "\n",
    "\n",
    "dataframe = pd.DataFrame(matrix, index = np.unique(label), columns=np.unique(label))\n",
    "sns.heatmap(dataframe, annot=True, cbar=None, cmap=\"YlGnBu\")\n",
    "plt.title(\"Confusion Matrix\")\n",
    "plt.ylabel(\"True Class\")\n",
    "plt.xlabel(\"Predicted Class\")\n",
    "plt.savefig('./figure/heaat.png',dpi=300,bbox_inches='tight')\n",
    "plt.show()"
   ],
   "metadata": {
    "collapsed": false,
    "pycharm": {
     "name": "#%%\n"
    }
   }
  },
  {
   "cell_type": "code",
   "execution_count": 7,
   "outputs": [
    {
     "ename": "NotImplementedError",
     "evalue": "Layers with arguments in `__init__` must override `get_config`.",
     "output_type": "error",
     "traceback": [
      "\u001B[1;31m---------------------------------------------------------------------------\u001B[0m",
      "\u001B[1;31mNotImplementedError\u001B[0m                       Traceback (most recent call last)",
      "\u001B[1;32m<ipython-input-7-ec28eb2e0dde>\u001B[0m in \u001B[0;36m<module>\u001B[1;34m()\u001B[0m\n\u001B[0;32m      1\u001B[0m \u001B[1;33m\u001B[0m\u001B[0m\n\u001B[1;32m----> 2\u001B[1;33m \u001B[0mmodel\u001B[0m\u001B[1;33m.\u001B[0m\u001B[0msave\u001B[0m\u001B[1;33m(\u001B[0m\u001B[1;34m\"ResNet.h5\"\u001B[0m\u001B[1;33m)\u001B[0m\u001B[1;33m\u001B[0m\u001B[1;33m\u001B[0m\u001B[0m\n\u001B[0m",
      "\u001B[1;32m~\\anaconda3\\envs\\final\\lib\\site-packages\\tensorflow_core\\python\\keras\\engine\\network.py\u001B[0m in \u001B[0;36msave\u001B[1;34m(self, filepath, overwrite, include_optimizer, save_format, signatures, options)\u001B[0m\n\u001B[0;32m   1006\u001B[0m     \"\"\"\n\u001B[0;32m   1007\u001B[0m     save.save_model(self, filepath, overwrite, include_optimizer, save_format,\n\u001B[1;32m-> 1008\u001B[1;33m                     signatures, options)\n\u001B[0m\u001B[0;32m   1009\u001B[0m \u001B[1;33m\u001B[0m\u001B[0m\n\u001B[0;32m   1010\u001B[0m   \u001B[1;32mdef\u001B[0m \u001B[0msave_weights\u001B[0m\u001B[1;33m(\u001B[0m\u001B[0mself\u001B[0m\u001B[1;33m,\u001B[0m \u001B[0mfilepath\u001B[0m\u001B[1;33m,\u001B[0m \u001B[0moverwrite\u001B[0m\u001B[1;33m=\u001B[0m\u001B[1;32mTrue\u001B[0m\u001B[1;33m,\u001B[0m \u001B[0msave_format\u001B[0m\u001B[1;33m=\u001B[0m\u001B[1;32mNone\u001B[0m\u001B[1;33m)\u001B[0m\u001B[1;33m:\u001B[0m\u001B[1;33m\u001B[0m\u001B[1;33m\u001B[0m\u001B[0m\n",
      "\u001B[1;32m~\\anaconda3\\envs\\final\\lib\\site-packages\\tensorflow_core\\python\\keras\\saving\\save.py\u001B[0m in \u001B[0;36msave_model\u001B[1;34m(model, filepath, overwrite, include_optimizer, save_format, signatures, options)\u001B[0m\n\u001B[0;32m    110\u001B[0m           'or using `save_weights`.')\n\u001B[0;32m    111\u001B[0m     hdf5_format.save_model_to_hdf5(\n\u001B[1;32m--> 112\u001B[1;33m         model, filepath, overwrite, include_optimizer)\n\u001B[0m\u001B[0;32m    113\u001B[0m   \u001B[1;32melse\u001B[0m\u001B[1;33m:\u001B[0m\u001B[1;33m\u001B[0m\u001B[1;33m\u001B[0m\u001B[0m\n\u001B[0;32m    114\u001B[0m     saved_model_save.save(model, filepath, overwrite, include_optimizer,\n",
      "\u001B[1;32m~\\anaconda3\\envs\\final\\lib\\site-packages\\tensorflow_core\\python\\keras\\saving\\hdf5_format.py\u001B[0m in \u001B[0;36msave_model_to_hdf5\u001B[1;34m(model, filepath, overwrite, include_optimizer)\u001B[0m\n\u001B[0;32m     97\u001B[0m \u001B[1;33m\u001B[0m\u001B[0m\n\u001B[0;32m     98\u001B[0m   \u001B[1;32mtry\u001B[0m\u001B[1;33m:\u001B[0m\u001B[1;33m\u001B[0m\u001B[1;33m\u001B[0m\u001B[0m\n\u001B[1;32m---> 99\u001B[1;33m     \u001B[0mmodel_metadata\u001B[0m \u001B[1;33m=\u001B[0m \u001B[0msaving_utils\u001B[0m\u001B[1;33m.\u001B[0m\u001B[0mmodel_metadata\u001B[0m\u001B[1;33m(\u001B[0m\u001B[0mmodel\u001B[0m\u001B[1;33m,\u001B[0m \u001B[0minclude_optimizer\u001B[0m\u001B[1;33m)\u001B[0m\u001B[1;33m\u001B[0m\u001B[1;33m\u001B[0m\u001B[0m\n\u001B[0m\u001B[0;32m    100\u001B[0m     \u001B[1;32mfor\u001B[0m \u001B[0mk\u001B[0m\u001B[1;33m,\u001B[0m \u001B[0mv\u001B[0m \u001B[1;32min\u001B[0m \u001B[0mmodel_metadata\u001B[0m\u001B[1;33m.\u001B[0m\u001B[0mitems\u001B[0m\u001B[1;33m(\u001B[0m\u001B[1;33m)\u001B[0m\u001B[1;33m:\u001B[0m\u001B[1;33m\u001B[0m\u001B[1;33m\u001B[0m\u001B[0m\n\u001B[0;32m    101\u001B[0m       \u001B[1;32mif\u001B[0m \u001B[0misinstance\u001B[0m\u001B[1;33m(\u001B[0m\u001B[0mv\u001B[0m\u001B[1;33m,\u001B[0m \u001B[1;33m(\u001B[0m\u001B[0mdict\u001B[0m\u001B[1;33m,\u001B[0m \u001B[0mlist\u001B[0m\u001B[1;33m,\u001B[0m \u001B[0mtuple\u001B[0m\u001B[1;33m)\u001B[0m\u001B[1;33m)\u001B[0m\u001B[1;33m:\u001B[0m\u001B[1;33m\u001B[0m\u001B[1;33m\u001B[0m\u001B[0m\n",
      "\u001B[1;32m~\\anaconda3\\envs\\final\\lib\\site-packages\\tensorflow_core\\python\\keras\\saving\\saving_utils.py\u001B[0m in \u001B[0;36mmodel_metadata\u001B[1;34m(model, include_optimizer, require_config)\u001B[0m\n\u001B[0;32m    170\u001B[0m   \u001B[1;32mexcept\u001B[0m \u001B[0mNotImplementedError\u001B[0m \u001B[1;32mas\u001B[0m \u001B[0me\u001B[0m\u001B[1;33m:\u001B[0m\u001B[1;33m\u001B[0m\u001B[1;33m\u001B[0m\u001B[0m\n\u001B[0;32m    171\u001B[0m     \u001B[1;32mif\u001B[0m \u001B[0mrequire_config\u001B[0m\u001B[1;33m:\u001B[0m\u001B[1;33m\u001B[0m\u001B[1;33m\u001B[0m\u001B[0m\n\u001B[1;32m--> 172\u001B[1;33m       \u001B[1;32mraise\u001B[0m \u001B[0me\u001B[0m\u001B[1;33m\u001B[0m\u001B[1;33m\u001B[0m\u001B[0m\n\u001B[0m\u001B[0;32m    173\u001B[0m \u001B[1;33m\u001B[0m\u001B[0m\n\u001B[0;32m    174\u001B[0m   metadata = dict(\n",
      "\u001B[1;32m~\\anaconda3\\envs\\final\\lib\\site-packages\\tensorflow_core\\python\\keras\\saving\\saving_utils.py\u001B[0m in \u001B[0;36mmodel_metadata\u001B[1;34m(model, include_optimizer, require_config)\u001B[0m\n\u001B[0;32m    167\u001B[0m   \u001B[0mmodel_config\u001B[0m \u001B[1;33m=\u001B[0m \u001B[1;33m{\u001B[0m\u001B[1;34m'class_name'\u001B[0m\u001B[1;33m:\u001B[0m \u001B[0mmodel\u001B[0m\u001B[1;33m.\u001B[0m\u001B[0m__class__\u001B[0m\u001B[1;33m.\u001B[0m\u001B[0m__name__\u001B[0m\u001B[1;33m}\u001B[0m\u001B[1;33m\u001B[0m\u001B[1;33m\u001B[0m\u001B[0m\n\u001B[0;32m    168\u001B[0m   \u001B[1;32mtry\u001B[0m\u001B[1;33m:\u001B[0m\u001B[1;33m\u001B[0m\u001B[1;33m\u001B[0m\u001B[0m\n\u001B[1;32m--> 169\u001B[1;33m     \u001B[0mmodel_config\u001B[0m\u001B[1;33m[\u001B[0m\u001B[1;34m'config'\u001B[0m\u001B[1;33m]\u001B[0m \u001B[1;33m=\u001B[0m \u001B[0mmodel\u001B[0m\u001B[1;33m.\u001B[0m\u001B[0mget_config\u001B[0m\u001B[1;33m(\u001B[0m\u001B[1;33m)\u001B[0m\u001B[1;33m\u001B[0m\u001B[1;33m\u001B[0m\u001B[0m\n\u001B[0m\u001B[0;32m    170\u001B[0m   \u001B[1;32mexcept\u001B[0m \u001B[0mNotImplementedError\u001B[0m \u001B[1;32mas\u001B[0m \u001B[0me\u001B[0m\u001B[1;33m:\u001B[0m\u001B[1;33m\u001B[0m\u001B[1;33m\u001B[0m\u001B[0m\n\u001B[0;32m    171\u001B[0m     \u001B[1;32mif\u001B[0m \u001B[0mrequire_config\u001B[0m\u001B[1;33m:\u001B[0m\u001B[1;33m\u001B[0m\u001B[1;33m\u001B[0m\u001B[0m\n",
      "\u001B[1;32m~\\anaconda3\\envs\\final\\lib\\site-packages\\tensorflow_core\\python\\keras\\engine\\sequential.py\u001B[0m in \u001B[0;36mget_config\u001B[1;34m(self)\u001B[0m\n\u001B[0;32m    345\u001B[0m     \u001B[0mlayer_configs\u001B[0m \u001B[1;33m=\u001B[0m \u001B[1;33m[\u001B[0m\u001B[1;33m]\u001B[0m\u001B[1;33m\u001B[0m\u001B[1;33m\u001B[0m\u001B[0m\n\u001B[0;32m    346\u001B[0m     \u001B[1;32mfor\u001B[0m \u001B[0mlayer\u001B[0m \u001B[1;32min\u001B[0m \u001B[0mself\u001B[0m\u001B[1;33m.\u001B[0m\u001B[0mlayers\u001B[0m\u001B[1;33m:\u001B[0m\u001B[1;33m\u001B[0m\u001B[1;33m\u001B[0m\u001B[0m\n\u001B[1;32m--> 347\u001B[1;33m       \u001B[0mlayer_configs\u001B[0m\u001B[1;33m.\u001B[0m\u001B[0mappend\u001B[0m\u001B[1;33m(\u001B[0m\u001B[0mgeneric_utils\u001B[0m\u001B[1;33m.\u001B[0m\u001B[0mserialize_keras_object\u001B[0m\u001B[1;33m(\u001B[0m\u001B[0mlayer\u001B[0m\u001B[1;33m)\u001B[0m\u001B[1;33m)\u001B[0m\u001B[1;33m\u001B[0m\u001B[1;33m\u001B[0m\u001B[0m\n\u001B[0m\u001B[0;32m    348\u001B[0m     \u001B[1;31m# When constructed using an `InputLayer` the first non-input layer may not\u001B[0m\u001B[1;33m\u001B[0m\u001B[1;33m\u001B[0m\u001B[1;33m\u001B[0m\u001B[0m\n\u001B[0;32m    349\u001B[0m     \u001B[1;31m# have the shape information to reconstruct `Sequential` as a graph network.\u001B[0m\u001B[1;33m\u001B[0m\u001B[1;33m\u001B[0m\u001B[1;33m\u001B[0m\u001B[0m\n",
      "\u001B[1;32m~\\anaconda3\\envs\\final\\lib\\site-packages\\tensorflow_core\\python\\keras\\utils\\generic_utils.py\u001B[0m in \u001B[0;36mserialize_keras_object\u001B[1;34m(instance)\u001B[0m\n\u001B[0;32m    196\u001B[0m \u001B[1;33m\u001B[0m\u001B[0m\n\u001B[0;32m    197\u001B[0m   \u001B[1;32mif\u001B[0m \u001B[0mhasattr\u001B[0m\u001B[1;33m(\u001B[0m\u001B[0minstance\u001B[0m\u001B[1;33m,\u001B[0m \u001B[1;34m'get_config'\u001B[0m\u001B[1;33m)\u001B[0m\u001B[1;33m:\u001B[0m\u001B[1;33m\u001B[0m\u001B[1;33m\u001B[0m\u001B[0m\n\u001B[1;32m--> 198\u001B[1;33m     \u001B[0mconfig\u001B[0m \u001B[1;33m=\u001B[0m \u001B[0minstance\u001B[0m\u001B[1;33m.\u001B[0m\u001B[0mget_config\u001B[0m\u001B[1;33m(\u001B[0m\u001B[1;33m)\u001B[0m\u001B[1;33m\u001B[0m\u001B[1;33m\u001B[0m\u001B[0m\n\u001B[0m\u001B[0;32m    199\u001B[0m     \u001B[0mserialization_config\u001B[0m \u001B[1;33m=\u001B[0m \u001B[1;33m{\u001B[0m\u001B[1;33m}\u001B[0m\u001B[1;33m\u001B[0m\u001B[1;33m\u001B[0m\u001B[0m\n\u001B[0;32m    200\u001B[0m     \u001B[1;32mfor\u001B[0m \u001B[0mkey\u001B[0m\u001B[1;33m,\u001B[0m \u001B[0mitem\u001B[0m \u001B[1;32min\u001B[0m \u001B[0mconfig\u001B[0m\u001B[1;33m.\u001B[0m\u001B[0mitems\u001B[0m\u001B[1;33m(\u001B[0m\u001B[1;33m)\u001B[0m\u001B[1;33m:\u001B[0m\u001B[1;33m\u001B[0m\u001B[1;33m\u001B[0m\u001B[0m\n",
      "\u001B[1;32m~\\anaconda3\\envs\\final\\lib\\site-packages\\tensorflow_core\\python\\keras\\engine\\base_layer.py\u001B[0m in \u001B[0;36mget_config\u001B[1;34m(self)\u001B[0m\n\u001B[0;32m    497\u001B[0m     \u001B[1;31m# or that `get_config` has been overridden:\u001B[0m\u001B[1;33m\u001B[0m\u001B[1;33m\u001B[0m\u001B[1;33m\u001B[0m\u001B[0m\n\u001B[0;32m    498\u001B[0m     \u001B[1;32mif\u001B[0m \u001B[0mlen\u001B[0m\u001B[1;33m(\u001B[0m\u001B[0mextra_args\u001B[0m\u001B[1;33m)\u001B[0m \u001B[1;33m>\u001B[0m \u001B[1;36m1\u001B[0m \u001B[1;32mand\u001B[0m \u001B[0mhasattr\u001B[0m\u001B[1;33m(\u001B[0m\u001B[0mself\u001B[0m\u001B[1;33m.\u001B[0m\u001B[0mget_config\u001B[0m\u001B[1;33m,\u001B[0m \u001B[1;34m'_is_default'\u001B[0m\u001B[1;33m)\u001B[0m\u001B[1;33m:\u001B[0m\u001B[1;33m\u001B[0m\u001B[1;33m\u001B[0m\u001B[0m\n\u001B[1;32m--> 499\u001B[1;33m       raise NotImplementedError('Layers with arguments in `__init__` must '\n\u001B[0m\u001B[0;32m    500\u001B[0m                                 'override `get_config`.')\n\u001B[0;32m    501\u001B[0m     \u001B[1;32mreturn\u001B[0m \u001B[0mconfig\u001B[0m\u001B[1;33m\u001B[0m\u001B[1;33m\u001B[0m\u001B[0m\n",
      "\u001B[1;31mNotImplementedError\u001B[0m: Layers with arguments in `__init__` must override `get_config`."
     ]
    }
   ],
   "source": [
    "model.save(\"ResNet.h5\")"
   ],
   "metadata": {
    "collapsed": false,
    "pycharm": {
     "name": "#%%\n"
    }
   }
  },
  {
   "cell_type": "code",
   "execution_count": 6,
   "outputs": [
    {
     "name": "stdout",
     "output_type": "stream",
     "text": [
      "Model: \"sequential\"\n",
      "_________________________________________________________________\n",
      "Layer (type)                 Output Shape              Param #   \n",
      "=================================================================\n",
      "conv2d (Conv2D)              (None, 105, 105, 64)      31360     \n",
      "_________________________________________________________________\n",
      "batch_normalization (BatchNo (None, 105, 105, 64)      256       \n",
      "_________________________________________________________________\n",
      "activation (Activation)      (None, 105, 105, 64)      0         \n",
      "_________________________________________________________________\n",
      "max_pooling2d (MaxPooling2D) (None, 53, 53, 64)        0         \n",
      "_________________________________________________________________\n",
      "residual_unit (ResidualUnit) (None, 53, 53, 64)        74240     \n",
      "_________________________________________________________________\n",
      "residual_unit_1 (ResidualUni (None, 53, 53, 64)        74240     \n",
      "_________________________________________________________________\n",
      "residual_unit_2 (ResidualUni (None, 53, 53, 64)        74240     \n",
      "_________________________________________________________________\n",
      "residual_unit_3 (ResidualUni (None, 27, 27, 128)       230912    \n",
      "_________________________________________________________________\n",
      "residual_unit_4 (ResidualUni (None, 27, 27, 128)       295936    \n",
      "_________________________________________________________________\n",
      "residual_unit_5 (ResidualUni (None, 27, 27, 128)       295936    \n",
      "_________________________________________________________________\n",
      "residual_unit_6 (ResidualUni (None, 27, 27, 128)       295936    \n",
      "_________________________________________________________________\n",
      "residual_unit_7 (ResidualUni (None, 14, 14, 256)       920576    \n",
      "_________________________________________________________________\n",
      "residual_unit_8 (ResidualUni (None, 14, 14, 256)       1181696   \n",
      "_________________________________________________________________\n",
      "residual_unit_9 (ResidualUni (None, 14, 14, 256)       1181696   \n",
      "_________________________________________________________________\n",
      "residual_unit_10 (ResidualUn (None, 14, 14, 256)       1181696   \n",
      "_________________________________________________________________\n",
      "residual_unit_11 (ResidualUn (None, 14, 14, 256)       1181696   \n",
      "_________________________________________________________________\n",
      "residual_unit_12 (ResidualUn (None, 14, 14, 256)       1181696   \n",
      "_________________________________________________________________\n",
      "residual_unit_13 (ResidualUn (None, 7, 7, 512)         3676160   \n",
      "_________________________________________________________________\n",
      "residual_unit_14 (ResidualUn (None, 7, 7, 512)         4722688   \n",
      "_________________________________________________________________\n",
      "residual_unit_15 (ResidualUn (None, 7, 7, 512)         4722688   \n",
      "_________________________________________________________________\n",
      "global_average_pooling2d (Gl (None, 512)               0         \n",
      "_________________________________________________________________\n",
      "flatten (Flatten)            (None, 512)               0         \n",
      "_________________________________________________________________\n",
      "dense (Dense)                (None, 10)                5130      \n",
      "=================================================================\n",
      "Total params: 21,328,778\n",
      "Trainable params: 21,311,754\n",
      "Non-trainable params: 17,024\n",
      "_________________________________________________________________\n"
     ]
    }
   ],
   "source": [
    "model.summary()"
   ],
   "metadata": {
    "collapsed": false,
    "pycharm": {
     "name": "#%%\n"
    }
   }
  },
  {
   "cell_type": "code",
   "execution_count": 8,
   "outputs": [
    {
     "name": "stdout",
     "output_type": "stream",
     "text": [
      "[0.3576197699175104, 0.9409938, 0.98136646]\n"
     ]
    }
   ],
   "source": [
    "print(score)"
   ],
   "metadata": {
    "collapsed": false,
    "pycharm": {
     "name": "#%%\n"
    }
   }
  }
 ],
 "metadata": {
  "kernelspec": {
   "name": "final",
   "language": "python",
   "display_name": "final"
  },
  "language_info": {
   "codemirror_mode": {
    "name": "ipython",
    "version": 2
   },
   "file_extension": ".py",
   "mimetype": "text/x-python",
   "name": "python",
   "nbconvert_exporter": "python",
   "pygments_lexer": "ipython2",
   "version": "2.7.6"
  }
 },
 "nbformat": 4,
 "nbformat_minor": 0
}